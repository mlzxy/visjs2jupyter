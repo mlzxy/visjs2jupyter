{
 "cells": [
  {
   "cell_type": "code",
   "execution_count": 32,
   "metadata": {},
   "outputs": [
    {
     "data": {
      "text/plain": [
       "<module 'visJS2jupyter.visJS_module' from '/data/jupyter/visjs/visJS2jupyter/visJS2jupyter/visJS_module.py'>"
      ]
     },
     "execution_count": 32,
     "metadata": {},
     "output_type": "execute_result"
    }
   ],
   "source": [
    "from importlib import reload\n",
    "import matplotlib as mpl\n",
    "import networkx as nx\n",
    "import visJS2jupyter.visJS_module as visJS_module\n",
    "from tqdm.auto import tqdm\n",
    "import random\n",
    "reload(visJS_module)"
   ]
  },
  {
   "cell_type": "code",
   "execution_count": null,
   "metadata": {},
   "outputs": [],
   "source": []
  },
  {
   "cell_type": "code",
   "execution_count": 33,
   "metadata": {},
   "outputs": [],
   "source": [
    "# create a simple graph\n",
    "G = nx.connected_watts_strogatz_graph(30,2,.2)\n",
    "nodes = list(G.nodes()) # type cast to list in order to make compatible with networkx 1.11 and 2.0\n",
    "edges = list(G.edges()) # for nx 2.0, returns an \"EdgeView\" object rather than an iterable"
   ]
  },
  {
   "cell_type": "code",
   "execution_count": 34,
   "metadata": {},
   "outputs": [],
   "source": [
    "degree = dict(G.degree())\n",
    "nx.set_node_attributes(G, name = 'degree', values = degree)"
   ]
  },
  {
   "cell_type": "code",
   "execution_count": null,
   "metadata": {},
   "outputs": [],
   "source": []
  },
  {
   "cell_type": "code",
   "execution_count": 42,
   "metadata": {},
   "outputs": [
    {
     "data": {
      "application/vnd.jupyter.widget-view+json": {
       "model_id": "8f4e0c8ff6554151ba1c00b64fa36c1d",
       "version_major": 2,
       "version_minor": 0
      },
      "text/plain": [
       "HBox(children=(FloatProgress(value=0.0, max=30.0), HTML(value='')))"
      ]
     },
     "metadata": {},
     "output_type": "display_data"
    },
    {
     "name": "stdout",
     "output_type": "stream",
     "text": [
      "\n"
     ]
    }
   ],
   "source": [
    "pos = nx.spring_layout(G)\n",
    "\n",
    "# set per-node attributes\n",
    "nodes_dict = [{\"id\":n,\n",
    "               \"border_width\": 4,\n",
    "               \"border_color\": \"#000\",\n",
    "               \"degree\":nx.degree(G,n),\n",
    "               \"node_shape\": 'image', # must set node shape to \"image\"\n",
    "               \"x\":pos[n][0]*700,\n",
    "                'node_image': \"https://nv.iap.wh-a.brainpp.cn/erjin/1422884,11b3f80006c6aceda?longest=80\",\n",
    "               \"y\":pos[n][1]*700} for n in tqdm(nodes)\n",
    "              ]"
   ]
  },
  {
   "cell_type": "code",
   "execution_count": 43,
   "metadata": {},
   "outputs": [
    {
     "data": {
      "text/html": [
       "<!doctype html><html><head>  <title>Network | Basic usage</title></head><body><script type=\"text/javascript\">function setUpFrame() {     var frame = window.frames[\"style_file0\"];    frame.runVis([{\"id\": 0, \"border_width\": 4, \"border_color\": \"#000\", \"degree\": 2, \"node_shape\": \"image\", \"x\": -52.60482061274434, \"node_image\": \"https://nv.iap.wh-a.brainpp.cn/erjin/1422884,11b3f80006c6aceda?longest=80\", \"y\": 263.78694649098173, \"color\": \"#8BA8D3\", \"title\": 0}, {\"id\": 1, \"border_width\": 4, \"border_color\": \"#000\", \"degree\": 3, \"node_shape\": \"image\", \"x\": -21.244897738777066, \"node_image\": \"https://nv.iap.wh-a.brainpp.cn/erjin/1422884,11b3f80006c6aceda?longest=80\", \"y\": 160.65858895322336, \"color\": \"#8BA8D3\", \"title\": 1}, {\"id\": 2, \"border_width\": 4, \"border_color\": \"#000\", \"degree\": 2, \"node_shape\": \"image\", \"x\": 99.09426752665786, \"node_image\": \"https://nv.iap.wh-a.brainpp.cn/erjin/1422884,11b3f80006c6aceda?longest=80\", \"y\": 152.99589629902403, \"color\": \"#8BA8D3\", \"title\": 2}, {\"id\": 3, \"border_width\": 4, \"border_color\": \"#000\", \"degree\": 1, \"node_shape\": \"image\", \"x\": -532.930642324296, \"node_image\": \"https://nv.iap.wh-a.brainpp.cn/erjin/1422884,11b3f80006c6aceda?longest=80\", \"y\": -290.3985304914627, \"color\": \"#8BA8D3\", \"title\": 3}, {\"id\": 4, \"border_width\": 4, \"border_color\": \"#000\", \"degree\": 2, \"node_shape\": \"image\", \"x\": -443.10925499871405, \"node_image\": \"https://nv.iap.wh-a.brainpp.cn/erjin/1422884,11b3f80006c6aceda?longest=80\", \"y\": -288.5023022505575, \"color\": \"#8BA8D3\", \"title\": 4}, {\"id\": 5, \"border_width\": 4, \"border_color\": \"#000\", \"degree\": 2, \"node_shape\": \"image\", \"x\": -326.1557567194085, \"node_image\": \"https://nv.iap.wh-a.brainpp.cn/erjin/1422884,11b3f80006c6aceda?longest=80\", \"y\": -296.7407087439261, \"color\": \"#8BA8D3\", \"title\": 5}, {\"id\": 6, \"border_width\": 4, \"border_color\": \"#000\", \"degree\": 2, \"node_shape\": \"image\", \"x\": -191.2736770234522, \"node_image\": \"https://nv.iap.wh-a.brainpp.cn/erjin/1422884,11b3f80006c6aceda?longest=80\", \"y\": -290.5562054204338, \"color\": \"#8BA8D3\", \"title\": 6}, {\"id\": 7, \"border_width\": 4, \"border_color\": \"#000\", \"degree\": 2, \"node_shape\": \"image\", \"x\": -44.23936066487873, \"node_image\": \"https://nv.iap.wh-a.brainpp.cn/erjin/1422884,11b3f80006c6aceda?longest=80\", \"y\": -265.6303532272378, \"color\": \"#8BA8D3\", \"title\": 7}, {\"id\": 8, \"border_width\": 4, \"border_color\": \"#000\", \"degree\": 2, \"node_shape\": \"image\", \"x\": 111.55782129526541, \"node_image\": \"https://nv.iap.wh-a.brainpp.cn/erjin/1422884,11b3f80006c6aceda?longest=80\", \"y\": -220.03211145465346, \"color\": \"#8BA8D3\", \"title\": 8}, {\"id\": 9, \"border_width\": 4, \"border_color\": \"#000\", \"degree\": 3, \"node_shape\": \"image\", \"x\": 257.089962323265, \"node_image\": \"https://nv.iap.wh-a.brainpp.cn/erjin/1422884,11b3f80006c6aceda?longest=80\", \"y\": -172.34758715144065, \"color\": \"#8BA8D3\", \"title\": 9}, {\"id\": 10, \"border_width\": 4, \"border_color\": \"#000\", \"degree\": 3, \"node_shape\": \"image\", \"x\": 330.6038894249439, \"node_image\": \"https://nv.iap.wh-a.brainpp.cn/erjin/1422884,11b3f80006c6aceda?longest=80\", \"y\": -51.54702250951988, \"color\": \"#8BA8D3\", \"title\": 10}, {\"id\": 11, \"border_width\": 4, \"border_color\": \"#000\", \"degree\": 2, \"node_shape\": \"image\", \"x\": 293.39433869341104, \"node_image\": \"https://nv.iap.wh-a.brainpp.cn/erjin/1422884,11b3f80006c6aceda?longest=80\", \"y\": 56.3557835310885, \"color\": \"#8BA8D3\", \"title\": 11}, {\"id\": 12, \"border_width\": 4, \"border_color\": \"#000\", \"degree\": 2, \"node_shape\": \"image\", \"x\": 206.75733836740037, \"node_image\": \"https://nv.iap.wh-a.brainpp.cn/erjin/1422884,11b3f80006c6aceda?longest=80\", \"y\": 129.81620094198354, \"color\": \"#8BA8D3\", \"title\": 12}, {\"id\": 13, \"border_width\": 4, \"border_color\": \"#000\", \"degree\": 1, \"node_shape\": \"image\", \"x\": -295.52936544111867, \"node_image\": \"https://nv.iap.wh-a.brainpp.cn/erjin/1422884,11b3f80006c6aceda?longest=80\", \"y\": 123.09125537476616, \"color\": \"#8BA8D3\", \"title\": 13}, {\"id\": 14, \"border_width\": 4, \"border_color\": \"#000\", \"degree\": 3, \"node_shape\": \"image\", \"x\": -217.1385743990367, \"node_image\": \"https://nv.iap.wh-a.brainpp.cn/erjin/1422884,11b3f80006c6aceda?longest=80\", \"y\": 72.08922974894502, \"color\": \"#8BA8D3\", \"title\": 14}, {\"id\": 15, \"border_width\": 4, \"border_color\": \"#000\", \"degree\": 4, \"node_shape\": \"image\", \"x\": -78.96232930184365, \"node_image\": \"https://nv.iap.wh-a.brainpp.cn/erjin/1422884,11b3f80006c6aceda?longest=80\", \"y\": 47.58381840889148, \"color\": \"#8BA8D3\", \"title\": 15}, {\"id\": 16, \"border_width\": 4, \"border_color\": \"#000\", \"degree\": 2, \"node_shape\": \"image\", \"x\": -19.270459944682138, \"node_image\": \"https://nv.iap.wh-a.brainpp.cn/erjin/1422884,11b3f80006c6aceda?longest=80\", \"y\": -92.58025474526883, \"color\": \"#8BA8D3\", \"title\": 16}, {\"id\": 17, \"border_width\": 4, \"border_color\": \"#000\", \"degree\": 2, \"node_shape\": \"image\", \"x\": 51.65224477165023, \"node_image\": \"https://nv.iap.wh-a.brainpp.cn/erjin/1422884,11b3f80006c6aceda?longest=80\", \"y\": -221.46678210141488, \"color\": \"#8BA8D3\", \"title\": 17}, {\"id\": 18, \"border_width\": 4, \"border_color\": \"#000\", \"degree\": 2, \"node_shape\": \"image\", \"x\": 139.80408449358177, \"node_image\": \"https://nv.iap.wh-a.brainpp.cn/erjin/1422884,11b3f80006c6aceda?longest=80\", \"y\": -325.01826981342685, \"color\": \"#8BA8D3\", \"title\": 18}, {\"id\": 19, \"border_width\": 4, \"border_color\": \"#000\", \"degree\": 2, \"node_shape\": \"image\", \"x\": 237.21720659776497, \"node_image\": \"https://nv.iap.wh-a.brainpp.cn/erjin/1422884,11b3f80006c6aceda?longest=80\", \"y\": -380.7095841279419, \"color\": \"#8BA8D3\", \"title\": 19}, {\"id\": 20, \"border_width\": 4, \"border_color\": \"#000\", \"degree\": 2, \"node_shape\": \"image\", \"x\": 322.9483678425063, \"node_image\": \"https://nv.iap.wh-a.brainpp.cn/erjin/1422884,11b3f80006c6aceda?longest=80\", \"y\": -355.9676337877772, \"color\": \"#8BA8D3\", \"title\": 20}, {\"id\": 21, \"border_width\": 4, \"border_color\": \"#000\", \"degree\": 2, \"node_shape\": \"image\", \"x\": 322.36449978743775, \"node_image\": \"https://nv.iap.wh-a.brainpp.cn/erjin/1422884,11b3f80006c6aceda?longest=80\", \"y\": -264.96890159815695, \"color\": \"#8BA8D3\", \"title\": 21}, {\"id\": 22, \"border_width\": 4, \"border_color\": \"#000\", \"degree\": 1, \"node_shape\": \"image\", \"x\": 424.1045229833644, \"node_image\": \"https://nv.iap.wh-a.brainpp.cn/erjin/1422884,11b3f80006c6aceda?longest=80\", \"y\": -24.13561514130035, \"color\": \"#8BA8D3\", \"title\": 22}, {\"id\": 23, \"border_width\": 4, \"border_color\": \"#000\", \"degree\": 1, \"node_shape\": \"image\", \"x\": -307.6988377873224, \"node_image\": \"https://nv.iap.wh-a.brainpp.cn/erjin/1422884,11b3f80006c6aceda?longest=80\", \"y\": 55.903076622823235, \"color\": \"#8BA8D3\", \"title\": 23}, {\"id\": 24, \"border_width\": 4, \"border_color\": \"#000\", \"degree\": 1, \"node_shape\": \"image\", \"x\": 44.44287737099903, \"node_image\": \"https://nv.iap.wh-a.brainpp.cn/erjin/1422884,11b3f80006c6aceda?longest=80\", \"y\": 189.7142525391857, \"color\": \"#8BA8D3\", \"title\": 24}, {\"id\": 25, \"border_width\": 4, \"border_color\": \"#000\", \"degree\": 2, \"node_shape\": \"image\", \"x\": -13.413478898288513, \"node_image\": \"https://nv.iap.wh-a.brainpp.cn/erjin/1422884,11b3f80006c6aceda?longest=80\", \"y\": 111.60959817214925, \"color\": \"#8BA8D3\", \"title\": 25}, {\"id\": 26, \"border_width\": 4, \"border_color\": \"#000\", \"degree\": 1, \"node_shape\": \"image\", \"x\": -93.13314308910945, \"node_image\": \"https://nv.iap.wh-a.brainpp.cn/erjin/1422884,11b3f80006c6aceda?longest=80\", \"y\": 700.0, \"color\": \"#8BA8D3\", \"title\": 26}, {\"id\": 27, \"border_width\": 4, \"border_color\": \"#000\", \"degree\": 2, \"node_shape\": \"image\", \"x\": -82.68000832422523, \"node_image\": \"https://nv.iap.wh-a.brainpp.cn/erjin/1422884,11b3f80006c6aceda?longest=80\", \"y\": 612.818214451944, \"color\": \"#8BA8D3\", \"title\": 27}, {\"id\": 28, \"border_width\": 4, \"border_color\": \"#000\", \"degree\": 2, \"node_shape\": \"image\", \"x\": -69.03283138992006, \"node_image\": \"https://nv.iap.wh-a.brainpp.cn/erjin/1422884,11b3f80006c6aceda?longest=80\", \"y\": 499.2705093856758, \"color\": \"#8BA8D3\", \"title\": 28}, {\"id\": 29, \"border_width\": 4, \"border_color\": \"#000\", \"degree\": 2, \"node_shape\": \"image\", \"x\": -52.613982820430245, \"node_image\": \"https://nv.iap.wh-a.brainpp.cn/erjin/1422884,11b3f80006c6aceda?longest=80\", \"y\": 364.90849164383746, \"color\": \"#8BA8D3\", \"title\": 29}], [{\"source\": 0, \"target\": 1, \"id\": \"0.9142524542843212\", \"color\": \"gray\"}, {\"source\": 0, \"target\": 29, \"id\": \"0.27713078326333884\", \"color\": \"gray\"}, {\"source\": 1, \"target\": 15, \"id\": \"0.529438643385761\", \"color\": \"gray\"}, {\"source\": 1, \"target\": 2, \"id\": \"0.9731828889675053\", \"color\": \"gray\"}, {\"source\": 2, \"target\": 12, \"id\": \"0.834017752003546\", \"color\": \"gray\"}, {\"source\": 3, \"target\": 4, \"id\": \"0.23756435054900293\", \"color\": \"gray\"}, {\"source\": 4, \"target\": 5, \"id\": \"0.021668157932566823\", \"color\": \"gray\"}, {\"source\": 5, \"target\": 6, \"id\": \"0.9097531808806866\", \"color\": \"gray\"}, {\"source\": 6, \"target\": 7, \"id\": \"0.6170647077146492\", \"color\": \"gray\"}, {\"source\": 7, \"target\": 8, \"id\": \"0.9588962286431855\", \"color\": \"gray\"}, {\"source\": 8, \"target\": 9, \"id\": \"0.09541489944261261\", \"color\": \"gray\"}, {\"source\": 9, \"target\": 10, \"id\": \"0.8782344790183703\", \"color\": \"gray\"}, {\"source\": 9, \"target\": 21, \"id\": \"0.16438245689189313\", \"color\": \"gray\"}, {\"source\": 10, \"target\": 11, \"id\": \"0.13590125060103153\", \"color\": \"gray\"}, {\"source\": 10, \"target\": 22, \"id\": \"0.38869895682175337\", \"color\": \"gray\"}, {\"source\": 11, \"target\": 12, \"id\": \"0.9932642154479776\", \"color\": \"gray\"}, {\"source\": 13, \"target\": 14, \"id\": \"0.5095335942381513\", \"color\": \"gray\"}, {\"source\": 14, \"target\": 15, \"id\": \"0.7910215261370276\", \"color\": \"gray\"}, {\"source\": 14, \"target\": 23, \"id\": \"0.9549829488526984\", \"color\": \"gray\"}, {\"source\": 15, \"target\": 16, \"id\": \"0.9705991908825393\", \"color\": \"gray\"}, {\"source\": 15, \"target\": 25, \"id\": \"0.2202772822312724\", \"color\": \"gray\"}, {\"source\": 16, \"target\": 17, \"id\": \"0.9396390712700073\", \"color\": \"gray\"}, {\"source\": 17, \"target\": 18, \"id\": \"0.34450640765217844\", \"color\": \"gray\"}, {\"source\": 18, \"target\": 19, \"id\": \"0.3754940093868544\", \"color\": \"gray\"}, {\"source\": 19, \"target\": 20, \"id\": \"0.9474056735771756\", \"color\": \"gray\"}, {\"source\": 20, \"target\": 21, \"id\": \"0.05142880150837481\", \"color\": \"gray\"}, {\"source\": 24, \"target\": 25, \"id\": \"0.6067405367177042\", \"color\": \"gray\"}, {\"source\": 26, \"target\": 27, \"id\": \"0.3410605890171853\", \"color\": \"gray\"}, {\"source\": 27, \"target\": 28, \"id\": \"0.7414136308473418\", \"color\": \"gray\"}, {\"source\": 28, \"target\": 29, \"id\": \"0.3197795783638555\", \"color\": \"gray\"}]);}</script><iframe name=\"style_file0\" src=\"style_file0.html\" width=\"100%;\" height=\"805px\"></iframe></body></html>"
      ],
      "text/plain": [
       "<IPython.core.display.HTML object>"
      ]
     },
     "execution_count": 43,
     "metadata": {},
     "output_type": "execute_result"
    }
   ],
   "source": [
    "node_map = dict(zip(nodes,range(len(nodes))))\n",
    "\n",
    "# set per-edge attributes\n",
    "edges_dict = [{\"source\":node_map[edges[i][0]], \"target\":node_map[edges[i][1]], \"id\": str(random.random()),\n",
    "              \"color\":\"gray\"} for i in range(len(edges))]\n",
    "\n",
    "# set network-wide style parameters\n",
    "data = visJS_module.visjs_network(nodes_dict,edges_dict,\n",
    "                          node_size_multiplier=10,\n",
    "                          node_size_transform = '',\n",
    "                        node_shape_use_border_with_image=True,\n",
    "                          node_font_size=25,\n",
    "                          physics_enabled=True,\n",
    "                          edge_color_highlight='#8A324E',\n",
    "                          edge_color_hover='#8BADD3',\n",
    "                          edge_width=3,\n",
    "                          max_velocity=15,\n",
    "                          min_velocity=1)\n",
    "data"
   ]
  },
  {
   "cell_type": "code",
   "execution_count": 41,
   "metadata": {},
   "outputs": [],
   "source": [
    "visJS_module.visjs_network?"
   ]
  },
  {
   "cell_type": "code",
   "execution_count": null,
   "metadata": {},
   "outputs": [],
   "source": []
  },
  {
   "cell_type": "code",
   "execution_count": null,
   "metadata": {},
   "outputs": [],
   "source": []
  },
  {
   "cell_type": "code",
   "execution_count": null,
   "metadata": {},
   "outputs": [],
   "source": []
  },
  {
   "cell_type": "code",
   "execution_count": null,
   "metadata": {},
   "outputs": [],
   "source": []
  },
  {
   "cell_type": "code",
   "execution_count": null,
   "metadata": {},
   "outputs": [],
   "source": []
  },
  {
   "cell_type": "code",
   "execution_count": null,
   "metadata": {},
   "outputs": [],
   "source": []
  },
  {
   "cell_type": "code",
   "execution_count": null,
   "metadata": {},
   "outputs": [],
   "source": []
  },
  {
   "cell_type": "code",
   "execution_count": null,
   "metadata": {},
   "outputs": [],
   "source": []
  }
 ],
 "metadata": {
  "kernelspec": {
   "display_name": "Python 3",
   "language": "python",
   "name": "python3"
  },
  "language_info": {
   "codemirror_mode": {
    "name": "ipython",
    "version": 3
   },
   "file_extension": ".py",
   "mimetype": "text/x-python",
   "name": "python",
   "nbconvert_exporter": "python",
   "pygments_lexer": "ipython3",
   "version": "3.6.9"
  }
 },
 "nbformat": 4,
 "nbformat_minor": 2
}
